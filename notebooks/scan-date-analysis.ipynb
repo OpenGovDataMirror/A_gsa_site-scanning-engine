{
 "cells": [
  {
   "cell_type": "markdown",
   "metadata": {},
   "source": [
    "# Scan date analysis\n",
    "\n",
    "## Context\n",
    "\n",
    "See Github issue: [https://github.com/GSA/site-scanning/issues/201](https://github.com/GSA/site-scanning/issues/201)"
   ]
  },
  {
   "cell_type": "markdown",
   "metadata": {},
   "source": [
    "## Dependencies"
   ]
  },
  {
   "cell_type": "code",
   "execution_count": 7,
   "metadata": {},
   "outputs": [
    {
     "name": "stdout",
     "output_type": "stream",
     "text": [
      "The autoreload extension is already loaded. To reload it, use:\n",
      "  %reload_ext autoreload\n",
      "Note: you may need to restart the kernel to use updated packages.\n"
     ]
    }
   ],
   "source": [
    "%load_ext autoreload\n",
    "%autoreload 2\n",
    "\n",
    "%pip install --quiet pandas jinja2"
   ]
  },
  {
   "cell_type": "code",
   "execution_count": 8,
   "metadata": {},
   "outputs": [],
   "source": [
    "import pandas as pd\n",
    "\n",
    "from datetime import timedelta\n"
   ]
  },
  {
   "cell_type": "markdown",
   "metadata": {},
   "source": [
    "## Load data\n",
    "\n",
    "Read the most recent weekly snapshot and the target URL list into Pandas dataframes."
   ]
  },
  {
   "cell_type": "code",
   "execution_count": 9,
   "metadata": {},
   "outputs": [],
   "source": [
    "snapshot_df = pd.read_json(\"https://api.gsa.gov/technology/site-scanning/data/weekly-snapshot.json\")\n",
    "snapshot_df['scan_date'] = pd.to_datetime(snapshot_df['scan_date'])"
   ]
  },
  {
   "cell_type": "code",
   "execution_count": 10,
   "metadata": {},
   "outputs": [],
   "source": [
    "target_url_df = pd.read_csv('https://raw.githubusercontent.com/GSA/federal-website-index/main/data/site-scanning-target-url-list.csv')"
   ]
  },
  {
   "cell_type": "markdown",
   "metadata": {},
   "source": [
    "## Get \"old\" scans"
   ]
  },
  {
   "cell_type": "code",
   "execution_count": 11,
   "metadata": {},
   "outputs": [
    {
     "data": {
      "text/html": [
       "<style type=\"text/css\">\n",
       "</style>\n",
       "<table id=\"T_6fae4\">\n",
       "  <caption>Ten oldest scans before 2022-05-25 03:26:08.683000+00:00</caption>\n",
       "  <thead>\n",
       "    <tr>\n",
       "      <th class=\"blank level0\" >&nbsp;</th>\n",
       "      <th id=\"T_6fae4_level0_col0\" class=\"col_heading level0 col0\" >scan_date</th>\n",
       "      <th id=\"T_6fae4_level0_col1\" class=\"col_heading level0 col1\" >target_url</th>\n",
       "      <th id=\"T_6fae4_level0_col2\" class=\"col_heading level0 col2\" >final_url</th>\n",
       "    </tr>\n",
       "  </thead>\n",
       "  <tbody>\n",
       "    <tr>\n",
       "      <th id=\"T_6fae4_level0_row0\" class=\"row_heading level0 row0\" >23823</th>\n",
       "      <td id=\"T_6fae4_row0_col0\" class=\"data row0 col0\" >2022-05-16 01:03:52.007000+00:00</td>\n",
       "      <td id=\"T_6fae4_row0_col1\" class=\"data row0 col1\" >livehelp.cancer.gov</td>\n",
       "      <td id=\"T_6fae4_row0_col2\" class=\"data row0 col2\" >https://livehelp.cancer.gov/app/chat/chat_launch</td>\n",
       "    </tr>\n",
       "    <tr>\n",
       "      <th id=\"T_6fae4_level0_row1\" class=\"row_heading level0 row1\" >21543</th>\n",
       "      <td id=\"T_6fae4_row1_col0\" class=\"data row1 col0\" >2022-05-16 01:04:50.460000+00:00</td>\n",
       "      <td id=\"T_6fae4_row1_col1\" class=\"data row1 col1\" >livehelp-es.cancer.gov</td>\n",
       "      <td id=\"T_6fae4_row1_col2\" class=\"data row1 col2\" >https://livehelp-es.cancer.gov/app/chat/chat_launch</td>\n",
       "    </tr>\n",
       "    <tr>\n",
       "      <th id=\"T_6fae4_level0_row2\" class=\"row_heading level0 row2\" >2195</th>\n",
       "      <td id=\"T_6fae4_row2_col0\" class=\"data row2 col0\" >2022-05-16 01:11:01.475000+00:00</td>\n",
       "      <td id=\"T_6fae4_row2_col1\" class=\"data row2 col1\" >takebackday.dea.gov</td>\n",
       "      <td id=\"T_6fae4_row2_col2\" class=\"data row2 col2\" >None</td>\n",
       "    </tr>\n",
       "    <tr>\n",
       "      <th id=\"T_6fae4_level0_row3\" class=\"row_heading level0 row3\" >19446</th>\n",
       "      <td id=\"T_6fae4_row3_col0\" class=\"data row3 col0\" >2022-05-16 01:16:21.647000+00:00</td>\n",
       "      <td id=\"T_6fae4_row3_col1\" class=\"data row3 col1\" >www-nrd.nhtsa.dot.gov</td>\n",
       "      <td id=\"T_6fae4_row3_col2\" class=\"data row3 col2\" >https://www.nhtsa.gov/research</td>\n",
       "    </tr>\n",
       "    <tr>\n",
       "      <th id=\"T_6fae4_level0_row4\" class=\"row_heading level0 row4\" >6574</th>\n",
       "      <td id=\"T_6fae4_row4_col0\" class=\"data row4 col0\" >2022-05-16 01:16:29.597000+00:00</td>\n",
       "      <td id=\"T_6fae4_row4_col1\" class=\"data row4 col1\" >edlabs.ed.gov</td>\n",
       "      <td id=\"T_6fae4_row4_col2\" class=\"data row4 col2\" >https://ies.ed.gov/ncee/rel/</td>\n",
       "    </tr>\n",
       "    <tr>\n",
       "      <th id=\"T_6fae4_level0_row5\" class=\"row_heading level0 row5\" >5335</th>\n",
       "      <td id=\"T_6fae4_row5_col0\" class=\"data row5 col0\" >2022-05-16 01:27:20.667000+00:00</td>\n",
       "      <td id=\"T_6fae4_row5_col1\" class=\"data row5 col1\" >tracker.cloud.hhs.gov</td>\n",
       "      <td id=\"T_6fae4_row5_col2\" class=\"data row5 col2\" >https://ams.hhs.gov/amsLogin/SimpleLogin.jsp</td>\n",
       "    </tr>\n",
       "    <tr>\n",
       "      <th id=\"T_6fae4_level0_row6\" class=\"row_heading level0 row6\" >21108</th>\n",
       "      <td id=\"T_6fae4_row6_col0\" class=\"data row6 col0\" >2022-05-16 02:29:03.696000+00:00</td>\n",
       "      <td id=\"T_6fae4_row6_col1\" class=\"data row6 col1\" >wfmi.nifc.gov</td>\n",
       "      <td id=\"T_6fae4_row6_col2\" class=\"data row6 col2\" >https://wfmi.nifc.gov/cgi/WfmiHome.cgi</td>\n",
       "    </tr>\n",
       "    <tr>\n",
       "      <th id=\"T_6fae4_level0_row7\" class=\"row_heading level0 row7\" >9918</th>\n",
       "      <td id=\"T_6fae4_row7_col0\" class=\"data row7 col0\" >2022-05-16 02:35:53.448000+00:00</td>\n",
       "      <td id=\"T_6fae4_row7_col1\" class=\"data row7 col1\" >trials.nci.nih.gov</td>\n",
       "      <td id=\"T_6fae4_row7_col2\" class=\"data row7 col2\" >https://trials.nci.nih.gov/login/</td>\n",
       "    </tr>\n",
       "    <tr>\n",
       "      <th id=\"T_6fae4_level0_row8\" class=\"row_heading level0 row8\" >11565</th>\n",
       "      <td id=\"T_6fae4_row8_col0\" class=\"data row8 col0\" >2022-05-16 02:36:05.134000+00:00</td>\n",
       "      <td id=\"T_6fae4_row8_col1\" class=\"data row8 col1\" >trials-stage.nci.nih.gov</td>\n",
       "      <td id=\"T_6fae4_row8_col2\" class=\"data row8 col2\" >https://trials-stage.nci.nih.gov/login/</td>\n",
       "    </tr>\n",
       "    <tr>\n",
       "      <th id=\"T_6fae4_level0_row9\" class=\"row_heading level0 row9\" >17350</th>\n",
       "      <td id=\"T_6fae4_row9_col0\" class=\"data row9 col0\" >2022-05-16 03:01:42.336000+00:00</td>\n",
       "      <td id=\"T_6fae4_row9_col1\" class=\"data row9 col1\" >epsi.pppl.gov</td>\n",
       "      <td id=\"T_6fae4_row9_col2\" class=\"data row9 col2\" >None</td>\n",
       "    </tr>\n",
       "  </tbody>\n",
       "</table>\n"
      ],
      "text/plain": [
       "<pandas.io.formats.style.Styler at 0x299ee6280>"
      ]
     },
     "execution_count": 11,
     "metadata": {},
     "output_type": "execute_result"
    }
   ],
   "source": [
    "last_scan_date = snapshot_df['scan_date'].max()\n",
    "fresh_scan_date = last_scan_date - timedelta(days=1)\n",
    "older_scans = snapshot_df.query('scan_date < @fresh_scan_date')[['scan_date', 'target_url', 'final_url']].sort_values('scan_date')\n",
    "older_scans[:10].style.set_caption(f'Ten oldest scans before {fresh_scan_date}')"
   ]
  },
  {
   "cell_type": "code",
   "execution_count": 12,
   "metadata": {},
   "outputs": [
    {
     "name": "stdout",
     "output_type": "stream",
     "text": [
      "Domains not in the target URL list:\n"
     ]
    },
    {
     "data": {
      "text/plain": [
       "{'stgpdas.samhsa.gov'}"
      ]
     },
     "execution_count": 12,
     "metadata": {},
     "output_type": "execute_result"
    }
   ],
   "source": [
    "print('Domains not in the target URL list:')\n",
    "set(older_scans['target_url']) - set(target_url_df['website'])"
   ]
  },
  {
   "cell_type": "markdown",
   "metadata": {},
   "source": []
  }
 ],
 "metadata": {
  "interpreter": {
   "hash": "31f2aee4e71d21fbe5cf8b01ff0e069b9275f58929596ceb00d14d90e3e16cd6"
  },
  "kernelspec": {
   "display_name": "Python 3.8.9 64-bit",
   "language": "python",
   "name": "python3"
  },
  "language_info": {
   "codemirror_mode": {
    "name": "ipython",
    "version": 3
   },
   "file_extension": ".py",
   "mimetype": "text/x-python",
   "name": "python",
   "nbconvert_exporter": "python",
   "pygments_lexer": "ipython3",
   "version": "3.8.9"
  },
  "orig_nbformat": 4
 },
 "nbformat": 4,
 "nbformat_minor": 2
}
