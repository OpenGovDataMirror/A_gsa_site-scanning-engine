{
 "cells": [
  {
   "cell_type": "markdown",
   "metadata": {},
   "source": [
    "# Scan result quantity analysis"
   ]
  },
  {
   "cell_type": "markdown",
   "metadata": {},
   "source": [
    "## Context\n",
    "\n",
    "See GitHub issue: https://github.com/GSA/site-scanning/issues/246"
   ]
  },
  {
   "cell_type": "code",
   "execution_count": 34,
   "metadata": {},
   "outputs": [
    {
     "name": "stdout",
     "output_type": "stream",
     "text": [
      "The autoreload extension is already loaded. To reload it, use:\n",
      "  %reload_ext autoreload\n",
      "Note: you may need to restart the kernel to use updated packages.\n"
     ]
    }
   ],
   "source": [
    "%load_ext autoreload\n",
    "%autoreload 2\n",
    "\n",
    "%pip install --quiet pandas jinja2"
   ]
  },
  {
   "cell_type": "code",
   "execution_count": 35,
   "metadata": {},
   "outputs": [],
   "source": [
    "import pandas as pd"
   ]
  },
  {
   "cell_type": "code",
   "execution_count": 36,
   "metadata": {},
   "outputs": [
    {
     "name": "stdout",
     "output_type": "stream",
     "text": [
      "                        target_url  count\n",
      "28123                      ihs.gov      2\n",
      "10911         consumersentinel.gov      2\n",
      "41426                      oge.gov      2\n",
      "4683           ayudaconmibanco.gov      2\n",
      "55326                      stb.gov      2\n",
      "...                            ...    ...\n",
      "27216      hydrology2.nws.noaa.gov      1\n",
      "27215  hydrology.sci.gsfc.nasa.gov      1\n",
      "27214           hydrology.pnnl.gov      1\n",
      "27213            hydrology.pnl.gov      1\n",
      "81288           •lihtc.huduser.gov      1\n",
      "\n",
      "[81289 rows x 2 columns]\n"
     ]
    }
   ],
   "source": [
    "snapshot_df = pd.read_json('https://api.gsa.gov/technology/site-scanning/data/weekly-snapshot.json')\n",
    "target_url_df = pd.read_csv('https://raw.githubusercontent.com/GSA/federal-website-index/main/data/site-scanning-target-url-list.csv')\n",
    "# print('Number of domains not in the target URL list:')\n",
    "# len(set(snapshot_df['target_url']) - set(target_url_df['website']))\n",
    "\n",
    "df = snapshot_df.groupby(by=['target_url']).size().reset_index(name='count')\n",
    "print(df[['target_url', 'count']].sort_values(by='count', ascending=False).drop_duplicates())\n"
   ]
  }
 ],
 "metadata": {
  "interpreter": {
   "hash": "31f2aee4e71d21fbe5cf8b01ff0e069b9275f58929596ceb00d14d90e3e16cd6"
  },
  "kernelspec": {
   "display_name": "Python 3.8.9 64-bit",
   "language": "python",
   "name": "python3"
  },
  "language_info": {
   "codemirror_mode": {
    "name": "ipython",
    "version": 3
   },
   "file_extension": ".py",
   "mimetype": "text/x-python",
   "name": "python",
   "nbconvert_exporter": "python",
   "pygments_lexer": "ipython3",
   "version": "3.8.9"
  },
  "orig_nbformat": 4
 },
 "nbformat": 4,
 "nbformat_minor": 2
}
